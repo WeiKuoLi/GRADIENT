{
  "nbformat": 4,
  "nbformat_minor": 0,
  "metadata": {
    "colab": {
      "provenance": [],
      "toc_visible": true,
      "authorship_tag": "ABX9TyMGJLKRbOHBp0yqMU4k/5YW",
      "include_colab_link": true
    },
    "kernelspec": {
      "name": "python3",
      "display_name": "Python 3"
    },
    "language_info": {
      "name": "python"
    }
  },
  "cells": [
    {
      "cell_type": "markdown",
      "metadata": {
        "id": "view-in-github",
        "colab_type": "text"
      },
      "source": [
        "<a href=\"https://colab.research.google.com/github/WeiKuoLi/GRADIENT/blob/main/gradient.ipynb\" target=\"_parent\"><img src=\"https://colab.research.google.com/assets/colab-badge.svg\" alt=\"Open In Colab\"/></a>"
      ]
    },
    {
      "cell_type": "markdown",
      "source": [
        "# GRADIENT\n",
        "A project to calculate forward propagation and backward progation of a neural network using only numpy. Here we implement only the bare minimum, which is fully connected linear layer, ReLU layer and softmax cross-entropy layer. This project focus mainly on the design of the abstract syntax tree and how each calculation nodes connect to each other. The forward and backward propagation are taken care by recursion.\n"
      ],
      "metadata": {
        "id": "aEtUA47N0MY4"
      }
    },
    {
      "cell_type": "markdown",
      "source": [
        "# DATALOADER\n",
        "first we implement the data loader class to load mnist image and label to numpy arrays. The pandas library can be replaced by simpler file IO."
      ],
      "metadata": {
        "id": "2MGNFJvd1kyy"
      }
    },
    {
      "cell_type": "code",
      "source": [
        "import numpy as np\n",
        "import pandas as pd\n",
        "\n",
        "class DataLoader:\n",
        "\n",
        "  def __init__(self, filename, chunksize=50):\n",
        "    self.filename = filename\n",
        "    self.current_index = 0\n",
        "    self.data_frame = pd.read_csv(filename, nrows=50)\n",
        "\n",
        "    # Create a CSV iterator\n",
        "    self.csv_iterator = pd.read_csv(filename, chunksize=chunksize)\n",
        "\n",
        "  def get_data(self):\n",
        "    self.data_frame= next(self.csv_iterator)\n",
        "\n",
        "\n",
        "    data_array = self.data_frame.to_numpy()\n",
        "    data_array =data_array.transpose()\n",
        "    image_array = data_array[1:].astype(float) / np.amax(data_array[1:])\n",
        "\n",
        "    return data_array[0], image_array **2\n",
        "    # remember to transpose the data\n"
      ],
      "metadata": {
        "id": "Gzxl5IkH15hM"
      },
      "execution_count": 4,
      "outputs": []
    },
    {
      "cell_type": "markdown",
      "source": [
        "# HELPER FUNCTIONS FOR TENSORS\n",
        "Here we implement some required helper functions for our tensor calculations."
      ],
      "metadata": {
        "id": "TKxbSqb618jL"
      }
    },
    {
      "cell_type": "code",
      "source": [
        "def transform_onehot_encoding(array, num_classes):\n",
        "  onehot_array = np.zeros((num_classes, array.shape[0]))\n",
        "  for i, x  in enumerate(array):\n",
        "    onehot_array[x, i] = 1.0\n",
        "  return onehot_array\n",
        "\n",
        "def softmax(array):\n",
        "  new_arr = np.exp(array)/(1e-9 + np.sum(np.exp(array), axis=0))\n",
        "  return new_arr\n",
        "\n",
        "def cross_entropy(tensor_true, tensor_estimate):\n",
        "\n",
        "  return -np.sum(tensor_true * np.log(tensor_estimate) ) / (tensor_true.shape[1])\n",
        "\n",
        "def accuracy(tensor_true, tensor_estimate):\n",
        "  match_array = np.argmax(tensor_estimate, axis=0) == np.argmax(tensor_true, axis=0)\n",
        "\n",
        "  return np.sum(match_array.astype(float))/match_array.shape[0]"
      ],
      "metadata": {
        "id": "lJ953HhG2Oe4"
      },
      "execution_count": 5,
      "outputs": []
    },
    {
      "cell_type": "markdown",
      "source": [
        "# LAYER CLASS\n",
        "Here we define the Layer class and its children classes, These classes take care of forward propagation and backward propagation. Each Layer classes have properties pointing to the reference of its connecting Tensor nodes.  During forward/ backward propagation, the root node calls the corresponding methods of these layers. These methods recursively calculate the root value from its children node values or accumulate the children node gradient values.\n",
        "\n",
        "# RECURSION AND DYNAMIC PROGRAMMING\n",
        "In a data centric view point it works like this recursively:\n",
        "* root [calls] layer [calls] children node\n",
        "* children value [returns] forward propagation@layer [returns] root value\n",
        "* root gradient [pass to] chain rule @layer [pass to] children gradient"
      ],
      "metadata": {
        "id": "uBODnHCB2Rah"
      }
    },
    {
      "cell_type": "code",
      "execution_count": 6,
      "metadata": {
        "id": "hVc9McXqBAKf"
      },
      "outputs": [],
      "source": [
        " class Layer:\n",
        "\n",
        "  def __init__(self):\n",
        "    pass\n",
        "\n",
        "  def forward_pass(self):\n",
        "    pass\n",
        "\n",
        "  def backward_propagation(self):\n",
        "    pass\n",
        "\n",
        "  def update(self, alpha):\n",
        "    pass\n",
        "\n",
        "\n",
        "class FullyConnectedLayer(Layer):\n",
        "\n",
        "  def __init__(self, input_tensor, output_tensor):\n",
        "    super().__init__()\n",
        "    self.input_tensor = input_tensor\n",
        "    self.output_tensor = output_tensor\n",
        "    self.output_tensor.layer = self\n",
        "\n",
        "    self.num_batch = self.output_tensor.value.shape[1]\n",
        "    self.weight_shape = (self.output_tensor.value.shape[0], self.input_tensor.value.shape[0])\n",
        "\n",
        "    self.weights = Tensor(shape=self.weight_shape)\n",
        "    self.bias = Tensor(shape=(self.weight_shape[0], self.num_batch))\n",
        "\n",
        "  def forward_pass(self):\n",
        "    self.output_tensor.value = np.matmul(self.weights.evaluate_value(), self.input_tensor.evaluate_value()) + self.bias.evaluate_value()\n",
        "\n",
        "  def backward_propagation(self):\n",
        "    self.input_tensor.gradient += np.matmul(np.transpose(self.weights.value), self.output_tensor.gradient)\n",
        "    self.weights.gradient += np.matmul(self.output_tensor.gradient, np.transpose(self.input_tensor.value))\n",
        "    self.bias.gradient += np.matmul(self.output_tensor.gradient, np.ones((self.num_batch, 1)))\n",
        "\n",
        "    self.input_tensor.evaluate_gradient()\n",
        "    self.weights.evaluate_gradient()\n",
        "    self.bias.evaluate_gradient()\n",
        "\n",
        "\n",
        "  def update(self, alpha):\n",
        "    self.weights.update(alpha)\n",
        "    self.bias.update(alpha)\n",
        "    self.input_tensor.update(alpha)\n",
        "\n",
        "\n",
        "class ReluLayer(Layer):\n",
        "\n",
        "  def __init__(self,input_tensor, output_tensor):\n",
        "    super().__init__()\n",
        "    self.input_tensor = input_tensor\n",
        "    self.output_tensor = output_tensor\n",
        "    self.output_tensor.layer = self\n",
        "\n",
        "  def forward_pass(self):\n",
        "    self.output_tensor.value = np.maximum(0.0, self.input_tensor.evaluate_value())\n",
        "\n",
        "  def backward_propagation(self):\n",
        "    self.input_tensor.gradient = self.output_tensor.gradient * (self.output_tensor.value > 0).astype(float)\n",
        "    self.input_tensor.evaluate_gradient()\n",
        "\n",
        "  def update(self, alpha):\n",
        "    self.input_tensor.update(alpha)\n",
        "\n",
        "\n",
        "class SoftmaxCrossEntropyLayer(Layer):\n",
        "  def __init__(self, input_tensor, onehot_tensor):\n",
        "    self.input_tensor = input_tensor\n",
        "    self.onehot_tensor = onehot_tensor\n",
        "    self.loss=Tensor(value=None, shape=None)\n",
        "    self.loss.requires_gradient = False\n",
        "    self.loss.gradient = 1.0\n",
        "    self.loss.layer = self\n",
        "\n",
        "  def forward_pass(self):\n",
        "\n",
        "     self.loss.value = cross_entropy(self.onehot_tensor.value, softmax(self.input_tensor.evaluate_value()))\n",
        "\n",
        "  def backward_propagation(self):\n",
        "    self.input_tensor.gradient = softmax(self.input_tensor.value) - self.onehot_tensor.value\n",
        "\n",
        "    self.input_tensor.evaluate_gradient()\n",
        "    self.onehot_tensor.evaluate_gradient()\n",
        "\n",
        "  def update(self, alpha):\n",
        "    self.input_tensor.update(alpha)\n",
        "    self.onehot_tensor.update(alpha)"
      ]
    },
    {
      "cell_type": "markdown",
      "source": [
        "# TENSOR CLASS\n",
        "Here we define the Tensor class, which is the node class of each neuron in the network, it stores both Tensor value and its gradient. It have methods evaluate_value/ evaluate_gradient/ update for forward pass/ back propagation/ Tensor value updating. The implementation of forward pass/ back propagation varies for different layers and it is thus implemented in the Layer children classes.\n",
        "\n",
        "Each Non-leaf nodes need to point to a layer, the layer points to other Tensors as downstream nodes.\n",
        "If there is no pointing to another layer we know this is the leaf node.\n",
        "\n"
      ],
      "metadata": {
        "id": "eRs8EgfO5vwE"
      }
    },
    {
      "cell_type": "code",
      "source": [
        "class Tensor:\n",
        "\n",
        "  def __init__(self, shape=None, value=None):\n",
        "    self.is_forward_pass_evaluated = False\n",
        "    if( value is None and shape is None):\n",
        "      self.value =0.0\n",
        "    elif(value is not None):\n",
        "      self.value = value\n",
        "    else:\n",
        "      self.value = np.random.randn(*shape)\n",
        "\n",
        "    self.shape = np.shape(self.value)\n",
        "    self.gradient = np.zeros(shape=shape) if shape is not None else 0.0\n",
        "\n",
        "    self.requires_gradient = True\n",
        "    self.frozen = False\n",
        "    self.layer = None\n",
        "\n",
        "  def evaluate_value(self):\n",
        "    if(self.is_forward_pass_evaluated or (self.layer is None)):\n",
        "       return self.value\n",
        "    self.layer.forward_pass()\n",
        "    self.is_forward_pass_evaluated = True\n",
        "    return self.value\n",
        "\n",
        "  def evaluate_gradient(self):\n",
        "    self.layer.backward_propagation() if self.layer else None\n",
        "\n",
        "  def update(self, alpha):\n",
        "    self.value = self.value -  alpha * self.gradient if self.requires_gradient else self.value\n",
        "    self.gradient = np.zeros(shape=self.shape) if self.shape is not None else 0.0\n",
        "    ## gradient is one if this is the loss\n",
        "    self.is_forward_pass_evaluated = False\n",
        "    self.layer.update(alpha) if self.layer is not None else None\n",
        "\n"
      ],
      "metadata": {
        "id": "0RWY61ro5xf0"
      },
      "execution_count": 7,
      "outputs": []
    },
    {
      "cell_type": "markdown",
      "source": [
        "#START LOADING DATA"
      ],
      "metadata": {
        "id": "wE4EzYfx61GG"
      }
    },
    {
      "cell_type": "code",
      "source": [
        "print('start loading')\n",
        "batch_number = 100\n",
        "alpha_large = 0.01\n",
        "alpha = 0.0003\n",
        "mnist_train = DataLoader(filename='./sample_data/mnist_train_small.csv', chunksize=batch_number)\n",
        "print(mnist_train.data_frame.to_numpy()[:5,:5])\n",
        "print('done loading')"
      ],
      "metadata": {
        "colab": {
          "base_uri": "https://localhost:8080/"
        },
        "id": "bZz_JactBSQO",
        "outputId": "75df3611-c67d-4071-9c24-d33b6d466d4b"
      },
      "execution_count": 8,
      "outputs": [
        {
          "output_type": "stream",
          "name": "stdout",
          "text": [
            "start loading\n",
            "[[5 0 0 0 0]\n",
            " [7 0 0 0 0]\n",
            " [9 0 0 0 0]\n",
            " [5 0 0 0 0]\n",
            " [2 0 0 0 0]]\n",
            "done loading\n"
          ]
        }
      ]
    },
    {
      "cell_type": "markdown",
      "source": [
        "# DEFINING TENSORS AND LAYERS AS OUR NEURAL NETWORK"
      ],
      "metadata": {
        "id": "zk99mtaP659v"
      }
    },
    {
      "cell_type": "code",
      "source": [
        "label, image_array = mnist_train.get_data()\n",
        "onehot_label = transform_onehot_encoding(label, num_classes=10)\n",
        "label_tensor = Tensor(value=onehot_label)\n",
        "label_tensor.require_gradient = False\n",
        "image_tensor = Tensor(value=image_array)\n",
        "image_tensor.require_gradient = False\n",
        "\n",
        "Z1 = Tensor(shape=(128, batch_number))\n",
        "Z1.requires_gradient = False\n",
        "\n",
        "A1 = Tensor(shape=Z1.shape)\n",
        "A1.requires_gradient = False\n",
        "# for saving memory, we that A1 and Z1  value and gradient point to the same arrays\n",
        "Z1.value = A1.value\n",
        "Z1.gradient = A1.gradient\n",
        "\n",
        "Z2 = Tensor(shape=(10, batch_number))\n",
        "Z2.requires_gradient = False\n",
        "'''\n",
        "A2 = Tensor(shape=Z2.shape)\n",
        "A2.requires_gradient = False\n",
        "\n",
        "Z3 = Tensor(shape=(10, batch_number))\n",
        "Z3.requires_gradient = False\n",
        "'''\n",
        "L1 = FullyConnectedLayer(input_tensor=image_tensor, output_tensor=Z1)\n",
        "RL1 = ReluLayer(input_tensor=Z1, output_tensor=A1)\n",
        "\n",
        "L2 = FullyConnectedLayer(input_tensor=A1, output_tensor=Z2)\n",
        "'''\n",
        "RL2 = ReluLayer(input_tensor=Z2, output_tensor=A2)\n",
        "\n",
        "L3 = FullyConnectedLayer(input_tensor=A2, output_tensor=Z3)\n",
        "'''\n",
        "SCEL = SoftmaxCrossEntropyLayer(input_tensor=Z2, onehot_tensor=label_tensor)\n",
        "\n",
        "LOSS = SCEL.loss"
      ],
      "metadata": {
        "id": "UEjhsu_8BLOQ"
      },
      "execution_count": 9,
      "outputs": []
    },
    {
      "cell_type": "markdown",
      "source": [
        "# OUTPUT NEURAL NETWORK ARCHITECHTURE"
      ],
      "metadata": {
        "id": "wuM2fUxj7B6z"
      }
    },
    {
      "cell_type": "code",
      "source": [
        "_l = LOSS.layer\n",
        "\n",
        "while (_l is not None):\n",
        "  try:\n",
        "    print(_l,'\\n', _l.input_tensor.shape, ' -> ',_l.output_tensor.shape, '\\n')\n",
        "  except:\n",
        "    print(_l,'\\n', _l.input_tensor.shape, ' -> ',_l.onehot_tensor.shape, '\\n')\n",
        "  _l = _l.input_tensor.layer"
      ],
      "metadata": {
        "colab": {
          "base_uri": "https://localhost:8080/"
        },
        "id": "N6NN7UGncBmD",
        "outputId": "9897f709-7cc9-4545-9e5e-dd720f77dda9"
      },
      "execution_count": 10,
      "outputs": [
        {
          "output_type": "stream",
          "name": "stdout",
          "text": [
            "<__main__.SoftmaxCrossEntropyLayer object at 0x7fc3b878d0c0> \n",
            " (10, 100)  ->  (10, 100) \n",
            "\n",
            "<__main__.FullyConnectedLayer object at 0x7fc3b878d450> \n",
            " (128, 100)  ->  (10, 100) \n",
            "\n",
            "<__main__.ReluLayer object at 0x7fc3b878cb50> \n",
            " (128, 100)  ->  (128, 100) \n",
            "\n",
            "<__main__.FullyConnectedLayer object at 0x7fc3b878d480> \n",
            " (784, 100)  ->  (128, 100) \n",
            "\n"
          ]
        }
      ]
    },
    {
      "cell_type": "markdown",
      "source": [
        "# START TRAINING\n",
        "Please run multiple times until it reaches 85 %"
      ],
      "metadata": {
        "id": "SlXTAMew7Hcj"
      }
    },
    {
      "cell_type": "code",
      "source": [
        "# load again mnist_train\n",
        "mnist_train = DataLoader(filename='./sample_data/mnist_train_small.csv', chunksize=batch_number)\n",
        "\n",
        "\n",
        "print('start training')\n",
        "for i in range(int(394 * 50 / batch_number)):\n",
        "\n",
        "  LOSS.gradient = 1.0\n",
        "\n",
        "  # Forward Propagation\n",
        "  LOSS_value = LOSS.evaluate_value()\n",
        "\n",
        "  if(i % 5 ==0):\n",
        "    print(f\"[{i}]  loss is {LOSS_value}\")\n",
        "    _A2 =softmax(Z2.value)\n",
        "    _accuracy = accuracy(_A2, label_tensor.value)\n",
        "    print(f\"       accuracy is {_accuracy}\\n\")\n",
        "\n",
        "  # Backward Propagation\n",
        "  LOSS.evaluate_gradient()\n",
        "  LOSS.update(alpha)\n",
        "\n",
        "  if(i * batch_number > 500):\n",
        "    alpha = alpha_large\n",
        "\n",
        "  label, image_array = mnist_train.get_data()\n",
        "  onehot_label = transform_onehot_encoding(label, num_classes=10)\n",
        "  label_tensor.value=onehot_label\n",
        "  image_tensor.value=image_array\n",
        "\n"
      ],
      "metadata": {
        "colab": {
          "base_uri": "https://localhost:8080/"
        },
        "id": "XkV7MI2XMt7a",
        "outputId": "6b842b03-b66d-4327-e208-ab6ba64c1d8a"
      },
      "execution_count": 20,
      "outputs": [
        {
          "output_type": "stream",
          "name": "stdout",
          "text": [
            "start training\n",
            "[0]  loss is 0.3954076183991354\n",
            "       accuracy is 0.9\n",
            "\n",
            "[5]  loss is 0.44130967570907714\n",
            "       accuracy is 0.9\n",
            "\n",
            "[10]  loss is 0.21745011630530484\n",
            "       accuracy is 0.93\n",
            "\n",
            "[15]  loss is 0.32201782099202153\n",
            "       accuracy is 0.9\n",
            "\n",
            "[20]  loss is 0.2500720917631849\n",
            "       accuracy is 0.93\n",
            "\n",
            "[25]  loss is 0.40282427805232\n",
            "       accuracy is 0.86\n",
            "\n",
            "[30]  loss is 0.19622099874645907\n",
            "       accuracy is 0.94\n",
            "\n",
            "[35]  loss is 0.3356640778751755\n",
            "       accuracy is 0.88\n",
            "\n",
            "[40]  loss is 0.31316392099813567\n",
            "       accuracy is 0.86\n",
            "\n",
            "[45]  loss is 0.1635432287207139\n",
            "       accuracy is 0.96\n",
            "\n",
            "[50]  loss is 0.28906142971337245\n",
            "       accuracy is 0.92\n",
            "\n",
            "[55]  loss is 0.2392010127665051\n",
            "       accuracy is 0.93\n",
            "\n",
            "[60]  loss is 0.2782304707880371\n",
            "       accuracy is 0.95\n",
            "\n",
            "[65]  loss is 0.3920833021382512\n",
            "       accuracy is 0.86\n",
            "\n",
            "[70]  loss is 0.18494788229114395\n",
            "       accuracy is 0.93\n",
            "\n",
            "[75]  loss is 0.5015802412120948\n",
            "       accuracy is 0.89\n",
            "\n",
            "[80]  loss is 0.1430253935607747\n",
            "       accuracy is 0.96\n",
            "\n",
            "[85]  loss is 0.30516921199891067\n",
            "       accuracy is 0.89\n",
            "\n",
            "[90]  loss is 0.2260093394490382\n",
            "       accuracy is 0.95\n",
            "\n",
            "[95]  loss is 0.4750097228643305\n",
            "       accuracy is 0.87\n",
            "\n",
            "[100]  loss is 0.23352522863583322\n",
            "       accuracy is 0.94\n",
            "\n",
            "[105]  loss is 0.23001681858144984\n",
            "       accuracy is 0.93\n",
            "\n",
            "[110]  loss is 0.21998894034513639\n",
            "       accuracy is 0.92\n",
            "\n",
            "[115]  loss is 0.4102660493746424\n",
            "       accuracy is 0.92\n",
            "\n",
            "[120]  loss is 0.25749070302045773\n",
            "       accuracy is 0.91\n",
            "\n",
            "[125]  loss is 0.1794353436543531\n",
            "       accuracy is 0.92\n",
            "\n",
            "[130]  loss is 0.1621204829690557\n",
            "       accuracy is 0.95\n",
            "\n",
            "[135]  loss is 0.3055736615001486\n",
            "       accuracy is 0.93\n",
            "\n",
            "[140]  loss is 0.4002382919816347\n",
            "       accuracy is 0.92\n",
            "\n",
            "[145]  loss is 0.44400907119190847\n",
            "       accuracy is 0.89\n",
            "\n",
            "[150]  loss is 0.4168770542292505\n",
            "       accuracy is 0.91\n",
            "\n",
            "[155]  loss is 0.2724595327692013\n",
            "       accuracy is 0.91\n",
            "\n",
            "[160]  loss is 0.19539553984055338\n",
            "       accuracy is 0.95\n",
            "\n",
            "[165]  loss is 0.3037544544063105\n",
            "       accuracy is 0.94\n",
            "\n",
            "[170]  loss is 0.5042251774513504\n",
            "       accuracy is 0.88\n",
            "\n",
            "[175]  loss is 0.43096291962311495\n",
            "       accuracy is 0.86\n",
            "\n",
            "[180]  loss is 0.2771002365143816\n",
            "       accuracy is 0.93\n",
            "\n",
            "[185]  loss is 0.2747332931043799\n",
            "       accuracy is 0.89\n",
            "\n",
            "[190]  loss is 0.3459833956608491\n",
            "       accuracy is 0.93\n",
            "\n",
            "[195]  loss is 0.32598025722273355\n",
            "       accuracy is 0.91\n",
            "\n"
          ]
        }
      ]
    },
    {
      "cell_type": "markdown",
      "source": [
        "START TESTING"
      ],
      "metadata": {
        "id": "qD9Z6TBh7lxW"
      }
    },
    {
      "cell_type": "code",
      "source": [
        "print('start loading')\n",
        "mnist_test = DataLoader(filename='./sample_data/mnist_test.csv', chunksize=int(batch_number))\n",
        "print(mnist_test.data_frame.to_numpy()[:5,:5])\n",
        "print(mnist_test.data_frame.to_numpy().shape)\n",
        "print('done loading')\n",
        "\n",
        "import matplotlib.pyplot as plt\n",
        "from sklearn.metrics import confusion_matrix\n"
      ],
      "metadata": {
        "id": "AExRk7CRCAF9",
        "colab": {
          "base_uri": "https://localhost:8080/"
        },
        "outputId": "15187e7c-b414-4870-e3d8-e822dd4df09d"
      },
      "execution_count": 21,
      "outputs": [
        {
          "output_type": "stream",
          "name": "stdout",
          "text": [
            "start loading\n",
            "[[2 0 0 0 0]\n",
            " [1 0 0 0 0]\n",
            " [0 0 0 0 0]\n",
            " [4 0 0 0 0]\n",
            " [1 0 0 0 0]]\n",
            "(50, 785)\n",
            "done loading\n"
          ]
        }
      ]
    },
    {
      "cell_type": "code",
      "source": [
        "# load mnist test\n",
        "mnist_test = DataLoader(filename='./sample_data/mnist_test.csv', chunksize=int(batch_number))\n",
        "confusion_matrix_cache = np.zeros((10, 10))\n",
        "print('start testing')\n",
        "for i in range(int(96 * 100/batch_number)):\n",
        "\n",
        "  label, image_array = mnist_test.get_data()\n",
        "  onehot_label = transform_onehot_encoding(label, num_classes=10)\n",
        "  label_tensor.value=onehot_label\n",
        "  image_tensor.value=image_array\n",
        "  LOSS_value = LOSS.evaluate_value()\n",
        "  LOSS.update(0.0)\n",
        "\n",
        "\n",
        "  print(f\"[{i}]  loss is {LOSS_value}\")\n",
        "  _A2 =softmax(Z2.value)\n",
        "  _accuracy = accuracy(_A2, label_tensor.value)\n",
        "  print(f\"      accuracy is {_accuracy}\\n\")\n",
        "\n",
        "  confusion_matrix_cache += confusion_matrix(label_tensor.value.argmax(axis=0), _A2.argmax(axis=0))"
      ],
      "metadata": {
        "colab": {
          "base_uri": "https://localhost:8080/"
        },
        "id": "EcFmj_WaJUNr",
        "outputId": "82d17845-ba1b-4550-b232-4b44a03d8ef1"
      },
      "execution_count": 22,
      "outputs": [
        {
          "output_type": "stream",
          "name": "stdout",
          "text": [
            "start testing\n",
            "[0]  loss is 0.5211966931843799\n",
            "      accuracy is 0.91\n",
            "\n",
            "[1]  loss is 0.3773824082559614\n",
            "      accuracy is 0.92\n",
            "\n",
            "[2]  loss is 0.5986628862615601\n",
            "      accuracy is 0.87\n",
            "\n",
            "[3]  loss is 0.7359560111368504\n",
            "      accuracy is 0.85\n",
            "\n",
            "[4]  loss is 0.9023948475737273\n",
            "      accuracy is 0.78\n",
            "\n",
            "[5]  loss is 1.6945590295722175\n",
            "      accuracy is 0.75\n",
            "\n",
            "[6]  loss is 1.1573964938923964\n",
            "      accuracy is 0.82\n",
            "\n",
            "[7]  loss is 0.5830096374804478\n",
            "      accuracy is 0.89\n",
            "\n",
            "[8]  loss is 0.4699237126991178\n",
            "      accuracy is 0.87\n",
            "\n",
            "[9]  loss is 0.8299242907948862\n",
            "      accuracy is 0.79\n",
            "\n",
            "[10]  loss is 0.7822726828308454\n",
            "      accuracy is 0.82\n",
            "\n",
            "[11]  loss is 1.3233751424694555\n",
            "      accuracy is 0.78\n",
            "\n",
            "[12]  loss is 0.9583469227937397\n",
            "      accuracy is 0.77\n",
            "\n",
            "[13]  loss is 0.6882552759134534\n",
            "      accuracy is 0.83\n",
            "\n",
            "[14]  loss is 1.0550487351440123\n",
            "      accuracy is 0.85\n",
            "\n",
            "[15]  loss is 0.674547528813581\n",
            "      accuracy is 0.82\n",
            "\n",
            "[16]  loss is 0.8858765178506702\n",
            "      accuracy is 0.83\n",
            "\n",
            "[17]  loss is 1.3765140224573564\n",
            "      accuracy is 0.71\n",
            "\n",
            "[18]  loss is 0.6923200862533193\n",
            "      accuracy is 0.79\n",
            "\n",
            "[19]  loss is 0.9785391049670201\n",
            "      accuracy is 0.77\n",
            "\n",
            "[20]  loss is 1.148538189013282\n",
            "      accuracy is 0.79\n",
            "\n",
            "[21]  loss is 1.105189136027161\n",
            "      accuracy is 0.87\n",
            "\n",
            "[22]  loss is 0.8520306002855714\n",
            "      accuracy is 0.82\n",
            "\n",
            "[23]  loss is 0.7891629007218839\n",
            "      accuracy is 0.84\n",
            "\n",
            "[24]  loss is 0.680444856501778\n",
            "      accuracy is 0.83\n",
            "\n",
            "[25]  loss is 0.24962500634941354\n",
            "      accuracy is 0.92\n",
            "\n",
            "[26]  loss is 1.2107790625227184\n",
            "      accuracy is 0.81\n",
            "\n",
            "[27]  loss is 0.38612738664003793\n",
            "      accuracy is 0.9\n",
            "\n",
            "[28]  loss is 0.31824324880500177\n",
            "      accuracy is 0.9\n",
            "\n",
            "[29]  loss is 0.7636542449909407\n",
            "      accuracy is 0.84\n",
            "\n",
            "[30]  loss is 0.4597700378443455\n",
            "      accuracy is 0.92\n",
            "\n",
            "[31]  loss is 0.5405140022091983\n",
            "      accuracy is 0.87\n",
            "\n",
            "[32]  loss is 0.6164327268029984\n",
            "      accuracy is 0.88\n",
            "\n",
            "[33]  loss is 0.8348286820400369\n",
            "      accuracy is 0.88\n",
            "\n",
            "[34]  loss is 0.3577681793424703\n",
            "      accuracy is 0.91\n",
            "\n",
            "[35]  loss is 1.4214909016480555\n",
            "      accuracy is 0.81\n",
            "\n",
            "[36]  loss is 0.36250072710707165\n",
            "      accuracy is 0.9\n",
            "\n",
            "[37]  loss is 0.8366552690079508\n",
            "      accuracy is 0.84\n",
            "\n",
            "[38]  loss is 0.8894924712594281\n",
            "      accuracy is 0.81\n",
            "\n",
            "[39]  loss is 0.5197019732944856\n",
            "      accuracy is 0.83\n",
            "\n",
            "[40]  loss is 0.5624456446862321\n",
            "      accuracy is 0.83\n",
            "\n",
            "[41]  loss is 0.9833320448140781\n",
            "      accuracy is 0.85\n",
            "\n",
            "[42]  loss is 1.0900324663843164\n",
            "      accuracy is 0.76\n",
            "\n",
            "[43]  loss is 0.8405045224034963\n",
            "      accuracy is 0.87\n",
            "\n",
            "[44]  loss is 1.216241153761735\n",
            "      accuracy is 0.84\n",
            "\n",
            "[45]  loss is 0.45727215511288877\n",
            "      accuracy is 0.88\n",
            "\n",
            "[46]  loss is 0.7225881196442135\n",
            "      accuracy is 0.84\n",
            "\n",
            "[47]  loss is 0.5528472485933682\n",
            "      accuracy is 0.87\n",
            "\n",
            "[48]  loss is 1.0308706886494334\n",
            "      accuracy is 0.8\n",
            "\n",
            "[49]  loss is 0.7525878598205341\n",
            "      accuracy is 0.87\n",
            "\n",
            "[50]  loss is 0.42601086647293057\n",
            "      accuracy is 0.86\n",
            "\n",
            "[51]  loss is 0.29835959618969815\n",
            "      accuracy is 0.91\n",
            "\n",
            "[52]  loss is 0.24472162307543152\n",
            "      accuracy is 0.91\n",
            "\n",
            "[53]  loss is 0.20872948931950863\n",
            "      accuracy is 0.97\n",
            "\n",
            "[54]  loss is 0.10519656435283295\n",
            "      accuracy is 0.97\n",
            "\n",
            "[55]  loss is 0.30981505437774964\n",
            "      accuracy is 0.93\n",
            "\n",
            "[56]  loss is 0.5692177321886249\n",
            "      accuracy is 0.88\n",
            "\n",
            "[57]  loss is 0.6348917620687897\n",
            "      accuracy is 0.93\n",
            "\n",
            "[58]  loss is 0.503947396672788\n",
            "      accuracy is 0.95\n",
            "\n",
            "[59]  loss is 0.46539619421589734\n",
            "      accuracy is 0.89\n",
            "\n",
            "[60]  loss is 0.8508956759452806\n",
            "      accuracy is 0.77\n",
            "\n",
            "[61]  loss is 0.3240895597989892\n",
            "      accuracy is 0.9\n",
            "\n",
            "[62]  loss is 0.006644433771773215\n",
            "      accuracy is 1.0\n",
            "\n",
            "[63]  loss is 0.19751011323073764\n",
            "      accuracy is 0.94\n",
            "\n",
            "[64]  loss is 0.3864067818483089\n",
            "      accuracy is 0.92\n",
            "\n",
            "[65]  loss is 1.112796783238547\n",
            "      accuracy is 0.83\n",
            "\n",
            "[66]  loss is 0.5872357276250357\n",
            "      accuracy is 0.88\n",
            "\n",
            "[67]  loss is 0.8350264300809591\n",
            "      accuracy is 0.82\n",
            "\n",
            "[68]  loss is 0.27417667764896175\n",
            "      accuracy is 0.95\n",
            "\n",
            "[69]  loss is 0.4500102626578655\n",
            "      accuracy is 0.93\n",
            "\n",
            "[70]  loss is 0.10582401803156316\n",
            "      accuracy is 0.97\n",
            "\n",
            "[71]  loss is 0.21601479620834405\n",
            "      accuracy is 0.92\n",
            "\n",
            "[72]  loss is 0.5302156830503374\n",
            "      accuracy is 0.93\n",
            "\n",
            "[73]  loss is 0.12609112542354428\n",
            "      accuracy is 0.97\n",
            "\n",
            "[74]  loss is 0.5868900959765163\n",
            "      accuracy is 0.84\n",
            "\n",
            "[75]  loss is 0.2542505757589511\n",
            "      accuracy is 0.92\n",
            "\n",
            "[76]  loss is 0.20827530484509052\n",
            "      accuracy is 0.94\n",
            "\n",
            "[77]  loss is 0.29796760483338325\n",
            "      accuracy is 0.93\n",
            "\n",
            "[78]  loss is 0.9065491682714449\n",
            "      accuracy is 0.79\n",
            "\n",
            "[79]  loss is 0.46030444183776437\n",
            "      accuracy is 0.9\n",
            "\n",
            "[80]  loss is 0.3862161069513249\n",
            "      accuracy is 0.89\n",
            "\n",
            "[81]  loss is 0.3778618520255139\n",
            "      accuracy is 0.89\n",
            "\n",
            "[82]  loss is 0.7760311811094884\n",
            "      accuracy is 0.83\n",
            "\n",
            "[83]  loss is 0.7519411484774889\n",
            "      accuracy is 0.89\n",
            "\n",
            "[84]  loss is 0.35810202683557557\n",
            "      accuracy is 0.92\n",
            "\n",
            "[85]  loss is 0.16766141406947363\n",
            "      accuracy is 0.96\n",
            "\n",
            "[86]  loss is 0.13322390651156102\n",
            "      accuracy is 0.94\n",
            "\n",
            "[87]  loss is 0.035049265661268036\n",
            "      accuracy is 0.99\n",
            "\n",
            "[88]  loss is 0.07761067589660957\n",
            "      accuracy is 0.97\n",
            "\n",
            "[89]  loss is 0.13031454426485695\n",
            "      accuracy is 0.95\n",
            "\n",
            "[90]  loss is 0.7760970742753182\n",
            "      accuracy is 0.87\n",
            "\n",
            "[91]  loss is 0.21189991772487343\n",
            "      accuracy is 0.94\n",
            "\n",
            "[92]  loss is 0.36953135486073924\n",
            "      accuracy is 0.9\n",
            "\n",
            "[93]  loss is 0.4116714802665084\n",
            "      accuracy is 0.96\n",
            "\n",
            "[94]  loss is 0.4119890256785234\n",
            "      accuracy is 0.94\n",
            "\n",
            "[95]  loss is 0.46238789810377573\n",
            "      accuracy is 0.94\n",
            "\n"
          ]
        }
      ]
    },
    {
      "cell_type": "markdown",
      "source": [
        "Plot confusion matrix"
      ],
      "metadata": {
        "id": "gjYUKp7X76Oh"
      }
    },
    {
      "cell_type": "code",
      "source": [
        "plt.imshow(confusion_matrix_cache)\n",
        "plt.show()"
      ],
      "metadata": {
        "colab": {
          "base_uri": "https://localhost:8080/",
          "height": 430
        },
        "id": "GNseGnzP78Mj",
        "outputId": "cac18717-ce5a-4b75-cb0c-5981caff0c36"
      },
      "execution_count": 23,
      "outputs": [
        {
          "output_type": "display_data",
          "data": {
            "text/plain": [
              "<Figure size 640x480 with 1 Axes>"
            ],
            "image/png": "[encoded data removed]"
          },
          "metadata": {}
        }
      ]
    },
    {
      "cell_type": "markdown",
      "source": [
        "Sample some images from last test batch"
      ],
      "metadata": {
        "id": "f2IWUChW8CPe"
      }
    },
    {
      "cell_type": "code",
      "source": [
        "idx = {1,2,43,44,45,93,97,98,99}"
      ],
      "metadata": {
        "id": "mXFSt9VAKGNY"
      },
      "execution_count": 24,
      "outputs": []
    },
    {
      "cell_type": "code",
      "source": [
        "for id in idx:\n",
        "  img = image_array[:,id].reshape(28,28)\n",
        "  print(f\"prediction is {np.argmax(_A2[:,id])}, answer is {label[id]}\")\n",
        "  plt.imshow(img,cmap='bwr')\n",
        "  plt.show()"
      ],
      "metadata": {
        "colab": {
          "base_uri": "https://localhost:8080/",
          "height": 1000
        },
        "id": "BZF4xKerOf6z",
        "outputId": "dc239896-43f1-41b6-9462-76f49c807e98"
      },
      "execution_count": 25,
      "outputs": [
        {
          "output_type": "stream",
          "name": "stdout",
          "text": [
            "prediction is 4, answer is 4\n"
          ]
        },
        {
          "output_type": "display_data",
          "data": {
            "text/plain": [
              "<Figure size 640x480 with 1 Axes>"
            ],
            "image/png": "[encoded data removed]"
          },
          "metadata": {}
        },
        {
          "output_type": "stream",
          "name": "stdout",
          "text": [
            "prediction is 5, answer is 5\n"
          ]
        },
        {
          "output_type": "display_data",
          "data": {
            "text/plain": [
              "<Figure size 640x480 with 1 Axes>"
            ],
            "image/png": "[encoded data removed]"
          },
          "metadata": {}
        },
        {
          "output_type": "stream",
          "name": "stdout",
          "text": [
            "prediction is 5, answer is 5\n"
          ]
        },
        {
          "output_type": "display_data",
          "data": {
            "text/plain": [
              "<Figure size 640x480 with 1 Axes>"
            ],
            "image/png": "[encoded data removed]"
          },
          "metadata": {}
        },
        {
          "output_type": "stream",
          "name": "stdout",
          "text": [
            "prediction is 6, answer is 6\n"
          ]
        },
        {
          "output_type": "display_data",
          "data": {
            "text/plain": [
              "<Figure size 640x480 with 1 Axes>"
            ],
            "image/png": "[encoded data removed]"
          },
          "metadata": {}
        },
        {
          "output_type": "stream",
          "name": "stdout",
          "text": [
            "prediction is 1, answer is 1\n"
          ]
        },
        {
          "output_type": "display_data",
          "data": {
            "text/plain": [
              "<Figure size 640x480 with 1 Axes>"
            ],
            "image/png": "[encoded data removed]"
          },
          "metadata": {}
        },
        {
          "output_type": "stream",
          "name": "stdout",
          "text": [
            "prediction is 7, answer is 9\n"
          ]
        },
        {
          "output_type": "display_data",
          "data": {
            "text/plain": [
              "<Figure size 640x480 with 1 Axes>"
            ],
            "image/png": "[encoded data removed]"
          },
          "metadata": {}
        },
        {
          "output_type": "stream",
          "name": "stdout",
          "text": [
            "prediction is 5, answer is 5\n"
          ]
        },
        {
          "output_type": "display_data",
          "data": {
            "text/plain": [
              "<Figure size 640x480 with 1 Axes>"
            ],
            "image/png": "[encoded data removed]"
          },
          "metadata": {}
        },
        {
          "output_type": "stream",
          "name": "stdout",
          "text": [
            "prediction is 7, answer is 7\n"
          ]
        },
        {
          "output_type": "display_data",
          "data": {
            "text/plain": [
              "<Figure size 640x480 with 1 Axes>"
            ],
            "image/png": "[encoded data removed]"
          },
          "metadata": {}
        },
        {
          "output_type": "stream",
          "name": "stdout",
          "text": [
            "prediction is 1, answer is 1\n"
          ]
        },
        {
          "output_type": "display_data",
          "data": {
            "text/plain": [
              "<Figure size 640x480 with 1 Axes>"
            ],
            "image/png": "[encoded data removed]"
          },
          "metadata": {}
        }
      ]
    },
    {
      "cell_type": "markdown",
      "source": [
        "# THAT'S IT\n",
        "\n",
        "This is the end of this note book, here we outline some todos\n",
        "\n",
        "* Improve numerical stability of softmax function by subtracting largest matrix element before calculation\n",
        "* Implement print method to output the abstract syntax tree of the neural network\n",
        "* Find a better method for clearing out gradient\n",
        "* Improve memory usuage by pointing value & gradient of output/input node to the same array reference\n",
        ""
      ],
      "metadata": {
        "id": "J8uHcYTC85v1"
      }
    }
  ]
}